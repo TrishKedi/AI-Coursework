{
  "nbformat": 4,
  "nbformat_minor": 0,
  "metadata": {
    "colab": {
      "provenance": [],
      "include_colab_link": true
    },
    "kernelspec": {
      "name": "python3",
      "display_name": "Python 3"
    },
    "language_info": {
      "name": "python"
    }
  },
  "cells": [
    {
      "cell_type": "markdown",
      "metadata": {
        "id": "view-in-github",
        "colab_type": "text"
      },
      "source": [
        "<a href=\"https://colab.research.google.com/github/TrishKedi/AI-Coursework/blob/main/ML11_Code01.ipynb\" target=\"_parent\"><img src=\"https://colab.research.google.com/assets/colab-badge.svg\" alt=\"Open In Colab\"/></a>"
      ]
    },
    {
      "cell_type": "code",
      "execution_count": null,
      "metadata": {
        "id": "PQjGlCX4boBW",
        "outputId": "ec2e45ee-798f-4caf-c152-616dd9c96107",
        "colab": {
          "base_uri": "https://localhost:8080/",
          "height": 308
        }
      },
      "outputs": [
        {
          "output_type": "display_data",
          "data": {
            "text/plain": [
              "<Figure size 640x480 with 2 Axes>"
            ],
            "image/png": "[encoded data removed]"
          },
          "metadata": {}
        }
      ],
      "source": [
        "import numpy as np\n",
        "import matplotlib.pyplot as plt\n",
        "from scipy.ndimage import convolve\n",
        "\n",
        "# Create a simple 5x5 image\n",
        "image = np.array([[0, 0, 0, 0, 0],\n",
        "                  [0, 1, 1, 1, 0],\n",
        "                  [0, 1, 0, 1, 0],\n",
        "                  [0, 1, 1, 1, 0],\n",
        "                  [0, 0, 0, 0, 0]])\n",
        "\n",
        "# Define a simple 3x3 filter\n",
        "filter = np.array([[1, 0, -1],\n",
        "                   [1, 0, -1],\n",
        "                   [1, 0, -1]])\n",
        "\n",
        "# Apply convolution\n",
        "result = convolve(image, filter)\n",
        "\n",
        "# Display original image and convolved image\n",
        "plt.subplot(1, 2, 1)\n",
        "plt.imshow(image, cmap='gray')\n",
        "plt.title('Original Image')\n",
        "\n",
        "plt.subplot(1, 2, 2)\n",
        "plt.imshow(result, cmap='gray')\n",
        "plt.title('After Convolution')\n",
        "plt.show()\n"
      ]
    },
    {
      "cell_type": "code",
      "source": [],
      "metadata": {
        "id": "iyk8peoJ3Ind"
      },
      "execution_count": null,
      "outputs": []
    }
  ]
}
