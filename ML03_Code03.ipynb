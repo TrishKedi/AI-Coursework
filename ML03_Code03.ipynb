{
  "nbformat": 4,
  "nbformat_minor": 0,
  "metadata": {
    "colab": {
      "provenance": [],
      "include_colab_link": true
    },
    "kernelspec": {
      "name": "python3",
      "display_name": "Python 3"
    },
    "language_info": {
      "name": "python"
    }
  },
  "cells": [
    {
      "cell_type": "markdown",
      "metadata": {
        "id": "view-in-github",
        "colab_type": "text"
      },
      "source": [
        "<a href=\"https://colab.research.google.com/github/TrishKedi/AI-Coursework/blob/main/ML03_Code03.ipynb\" target=\"_parent\"><img src=\"https://colab.research.google.com/assets/colab-badge.svg\" alt=\"Open In Colab\"/></a>"
      ]
    },
    {
      "cell_type": "code",
      "execution_count": null,
      "metadata": {
        "id": "PQjGlCX4boBW",
        "outputId": "7a498962-c320-472d-ab8e-0396fb421ef6",
        "colab": {
          "base_uri": "https://localhost:8080/"
        }
      },
      "outputs": [
        {
          "output_type": "stream",
          "name": "stdout",
          "text": [
            "Normalized Data:\n",
            " [[0.         0.66666667]\n",
            " [0.25       0.33333333]\n",
            " [0.5        1.        ]\n",
            " [1.         0.        ]]\n",
            "Standardized Data:\n",
            " [[-1.18321596  0.4472136 ]\n",
            " [-0.50709255 -0.4472136 ]\n",
            " [ 0.16903085  1.34164079]\n",
            " [ 1.52127766 -1.34164079]]\n"
          ]
        }
      ],
      "source": [
        "from sklearn.preprocessing import MinMaxScaler, StandardScaler\n",
        "\n",
        "# Sample data\n",
        "data = [[-1, 8],\n",
        "      [-0.5, 6],\n",
        "       [0, 10],\n",
        "        [1, 4]]\n",
        "\n",
        "# Normalization (Min-Max Scaling)\n",
        "scaler = MinMaxScaler()\n",
        "normalized_data = scaler.fit_transform(data)\n",
        "\n",
        "# Standardization\n",
        "std_scaler = StandardScaler()\n",
        "standardized_data = std_scaler.fit_transform(data)\n",
        "\n",
        "print(\"Normalized Data:\\n\", normalized_data)\n",
        "print(\"Standardized Data:\\n\", standardized_data)"
      ]
    },
    {
      "cell_type": "code",
      "source": [],
      "metadata": {
        "id": "fTcXQ8sLdlhZ"
      },
      "execution_count": null,
      "outputs": []
    }
  ]
}